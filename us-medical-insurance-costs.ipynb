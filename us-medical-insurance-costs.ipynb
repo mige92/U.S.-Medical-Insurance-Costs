{
 "cells": [
  {
   "cell_type": "markdown",
   "metadata": {},
   "source": [
    "# U.S. Medical Insurance Costs"
   ]
  },
  {
   "cell_type": "markdown",
   "metadata": {},
   "source": [
    "The goal of this project is to identify the mean insurance costs for different categories of people. \n",
    "\n",
    "1. We will take a look on the mean charges for each sex, and identify if there is a premium for being male or female.\n",
    "2. The mean charges for each region will be calculated and compared, so we will find out, if there is a premium for a specific region.\n",
    "3. Next, we will find out if there is a premium for smoking, and how high it is.\n",
    "4. Finally, we will find out, how the charges change with the BMI."
   ]
  },
  {
   "cell_type": "markdown",
   "metadata": {},
   "source": [
    "## Creating the necessary datasets\n",
    "\n",
    "To do that, we have to import the necessary csv-library & csv-file.\n",
    "\n",
    "We also create lists for the different parameters and a dictionary for the dataset."
   ]
  },
  {
   "cell_type": "code",
   "execution_count": 1,
   "metadata": {},
   "outputs": [],
   "source": [
    "import csv\n",
    "        \n",
    "def load_data(csv_file, col_name):\n",
    "    lst = []\n",
    "    with open(csv_file, newline='') as csvfile:\n",
    "        reader = csv.DictReader(csvfile)\n",
    "        for row in reader:\n",
    "            lst.append(row[col_name])\n",
    "    return lst\n",
    "\n",
    "def load_dataset(csv_file):\n",
    "    dct = {}\n",
    "    with open(csv_file, newline='') as csvfile:\n",
    "        reader = csv.DictReader(csvfile)\n",
    "        i = 0\n",
    "        for row in reader:\n",
    "            dct[i] = row\n",
    "            i += 1\n",
    "    return dct\n",
    "                \n",
    "age_list = load_data('insurance.csv', 'age')\n",
    "sex_list = load_data('insurance.csv', 'sex')\n",
    "bmi_list = load_data('insurance.csv', 'bmi')\n",
    "children_list = load_data('insurance.csv', 'children')\n",
    "smoker_list = load_data('insurance.csv', 'smoker')\n",
    "region_list = load_data('insurance.csv', 'region')\n",
    "charges_list = load_data('insurance.csv', 'charges')\n",
    "dataset = load_dataset('insurance.csv') "
   ]
  },
  {
   "cell_type": "markdown",
   "metadata": {},
   "source": [
    "## Defining a class with the necessary methods\n",
    "\n",
    "To calculate the charges, we will define a class with the name 'Analysing'. In this class we will define all methods to analyze the mean charges, the premiums, and the dependencies."
   ]
  },
  {
   "cell_type": "code",
   "execution_count": 2,
   "metadata": {},
   "outputs": [],
   "source": [
    "class Analysed_data:\n",
    "    def __init__(self, age, sex, bmi, children, smoker, region, charges):\n",
    "        self.age = age_list\n",
    "        self.sex = sex_list\n",
    "        self.bmi = bmi_list\n",
    "        self.children = children_list\n",
    "        self.smoker = smoker_list\n",
    "        self.region = region_list\n",
    "        self.charges = charges_list\n",
    "        \n",
    "    def set_self(self, category):\n",
    "        if category == 'sex':\n",
    "            return self.sex\n",
    "        elif category == 'age':\n",
    "            return self.age\n",
    "        elif category == 'bmi':\n",
    "            return self.bmi\n",
    "        elif category == 'children':\n",
    "            return self.children\n",
    "        elif category == 'smoker':\n",
    "            return self.smoker\n",
    "        elif category == 'region':\n",
    "            return self.region\n",
    "        else:\n",
    "            return 'error'\n",
    "        \n",
    "    def mean_charge(self, category, item):\n",
    "        sum = 0\n",
    "        count = 0\n",
    "        if category in self.__dict__.keys():\n",
    "            self.category = self.set_self(category)\n",
    "            for row in zip(self.category, self.charges):\n",
    "                if row[0] == item:\n",
    "                    sum += float(row[1])\n",
    "                    count += 1\n",
    "            return round(sum/count, 2)\n",
    "        else:\n",
    "            return 'Invalid category'\n",
    "    \n",
    "    def premium(self, mean_charge):\n",
    "        sum = 0\n",
    "        count = 0\n",
    "        for row in self.charges:\n",
    "            sum += float(row)\n",
    "            count += 1\n",
    "        overall_mean = round(sum/count, 2)\n",
    "        return round(mean_charge-overall_mean, 2) \n",
    "    \n",
    "data = Analysed_data(age_list, sex_list, bmi_list, children_list, smoker_list, region_list, charges_list)"
   ]
  },
  {
   "cell_type": "markdown",
   "metadata": {},
   "source": [
    "## 1. Mean charges for each sex and premium\n",
    "\n",
    "To calculate the mean charges for each sex, we have to create an object of the class 'Analysed_data' and use the method 'mean_charges' for 'female' and 'male' items. \n",
    "\n",
    "Afterwards, we calculate the premium for being male."
   ]
  },
  {
   "cell_type": "code",
   "execution_count": 7,
   "metadata": {},
   "outputs": [
    {
     "name": "stdout",
     "output_type": "stream",
     "text": [
      "The mean charges for women are 12569.58.\n",
      "The mean charges for men are 13956.75.\n",
      "Thus, the premium for being male is 686.33 and the premium for being female is -700.84.\n"
     ]
    }
   ],
   "source": [
    "female_mean_charges = data.mean_charge('sex', 'female')\n",
    "male_mean_charges = data.mean_charge('sex', 'male')\n",
    "male_sex_premium = data.premium(male_mean_charges)\n",
    "female_sex_premium = data.premium(female_mean_charges)\n",
    "\n",
    "print(\"The mean charges for women are \" + str(female_mean_charges) + \".\")\n",
    "print(\"The mean charges for men are \" + str(male_mean_charges) + \".\")\n",
    "print(\"Thus, the premium for being male is \" + str(male_sex_premium) + \" and the premium for being female is \" + str(female_sex_premium) + \".\")"
   ]
  },
  {
   "cell_type": "markdown",
   "metadata": {},
   "source": [
    "## 2. Mean charges for each region and premium\n",
    "\n",
    "Similar to the 1. calculation, we use the method 'mean_charges' with the items for each region.\n",
    "\n"
   ]
  },
  {
   "cell_type": "code",
   "execution_count": 8,
   "metadata": {},
   "outputs": [
    {
     "name": "stdout",
     "output_type": "stream",
     "text": [
      "The mean charges for northeast are 13406.38 and the premium is 135.96.\n",
      "The mean charges for northwest are 12417.58 and the premium is -852.84.\n",
      "The mean charges for southeast are 14735.41 and the premium is 1464.99.\n",
      "The mean charges for southwest are 12346.94 and the premium is -923.48.\n"
     ]
    }
   ],
   "source": [
    "northeast_mean_charges = data.mean_charge('region', 'northeast')\n",
    "northwest_mean_charges = data.mean_charge('region', 'northwest')\n",
    "southeast_mean_charges = data.mean_charge('region', 'southeast')\n",
    "southwest_mean_charges = data.mean_charge('region', 'southwest')\n",
    "northeast_premium = data.premium(northeast_mean_charges)\n",
    "northwest_premium = data.premium(northwest_mean_charges)\n",
    "southeast_premium = data.premium(southeast_mean_charges)\n",
    "southwest_premium = data.premium(southwest_mean_charges)\n",
    "\n",
    "print(\"The mean charges for northeast are \" + str(northeast_mean_charges) + \" and the premium is \" + str(northeast_premium) + \".\")\n",
    "print(\"The mean charges for northwest are \" + str(northwest_mean_charges) + \" and the premium is \" + str(northwest_premium) + \".\")\n",
    "print(\"The mean charges for southeast are \" + str(southeast_mean_charges) + \" and the premium is \" + str(southeast_premium) + \".\")\n",
    "print(\"The mean charges for southwest are \" + str(southwest_mean_charges) + \" and the premium is \" + str(southwest_premium) + \".\")"
   ]
  },
  {
   "cell_type": "markdown",
   "metadata": {},
   "source": [
    "## 3. Premium for smoking\n",
    "\n",
    "Now we will calculate the mean charges for smokers, and how high their average premium is."
   ]
  },
  {
   "cell_type": "code",
   "execution_count": 9,
   "metadata": {},
   "outputs": [
    {
     "name": "stdout",
     "output_type": "stream",
     "text": [
      "The mean charges for smokers are 32050.23 and the premium is 18779.81.\n",
      "On the other hand, the mean charges for non-smokers are 8434.27 and the premium is -4836.15.\n"
     ]
    }
   ],
   "source": [
    "smoker_mean_charges = data.mean_charge('smoker', 'yes')\n",
    "nonsmoker_mean_charges = data.mean_charge('smoker', 'no')\n",
    "smoker_premium = data.premium(smoker_mean_charges)\n",
    "nonsmoker_premium = data.premium(nonsmoker_mean_charges)\n",
    "\n",
    "print(\"The mean charges for smokers are \" + str(smoker_mean_charges) + \" and the premium is \" + str(smoker_premium) + \".\")\n",
    "print(\"On the other hand, the mean charges for non-smokers are \" + str(nonsmoker_mean_charges) + \" and the premium is \" + str(nonsmoker_premium) + \".\")"
   ]
  },
  {
   "cell_type": "markdown",
   "metadata": {},
   "source": [
    "## 4. Charges in dependency of the BMI\n",
    "\n",
    "For this final taks, we will create a dictionary that shows the changes of the charges based on the BMI. The first column represents the BMI. Therefore we will look for the minimum and maximum BMI in the dataset."
   ]
  },
  {
   "cell_type": "code",
   "execution_count": 12,
   "metadata": {},
   "outputs": [
    {
     "name": "stdout",
     "output_type": "stream",
     "text": [
      "The smallest BMI is 15.96 and the biggest is 53.13.\n"
     ]
    }
   ],
   "source": [
    "print(\"The smallest BMI is \" + min(bmi_list) + \" and the biggest is \" + max(bmi_list) + \".\")"
   ]
  },
  {
   "cell_type": "markdown",
   "metadata": {},
   "source": [
    "Now we know the upper and lower limits of our \"table\". For every BMI between two values, we now want to calculate the mean charges. Afterwards, we can compare the values and find out about the dependency between the charges and the BMI."
   ]
  },
  {
   "cell_type": "code",
   "execution_count": 25,
   "metadata": {},
   "outputs": [
    {
     "name": "stdout",
     "output_type": "stream",
     "text": [
      "BMI: 15 - 20 | Mean charge: 8838.56\n",
      "BMI: 20 - 25 | Mean charge: 10572.37\n",
      "BMI: 25 - 30 | Mean charge: 10987.51\n",
      "BMI: 30 - 35 | Mean charge: 14419.67\n",
      "BMI: 35 - 40 | Mean charge: 17022.26\n",
      "BMI: 40 - 45 | Mean charge: 16569.6\n",
      "BMI: 45 - 50 | Mean charge: 17815.04\n",
      "BMI: 50 - 55 | Mean charge: 16034.31\n"
     ]
    }
   ],
   "source": [
    "def charges_table_bmi(steps):\n",
    "    lower_limit = int(float(min(bmi_list)))\n",
    "    upper_limit = int(float(max(bmi_list)))\n",
    "    while lower_limit <= upper_limit:\n",
    "        sum = 0\n",
    "        count = 0\n",
    "        for row in zip(bmi_list, charges_list):\n",
    "            if float(row[0]) >= lower_limit and float(row[0]) < lower_limit+steps: \n",
    "                sum += float(row[1])\n",
    "                count += 1\n",
    "        if count > 0:\n",
    "            mean_charge = round(sum/count, 2)\n",
    "        else:\n",
    "            mean_charge = 'no values'\n",
    "        print(\"BMI: \" + str(lower_limit) + \" - \" +str(lower_limit+steps) + \" | Mean charge: \" + str(mean_charge))\n",
    "        lower_limit += steps\n",
    "        \n",
    "charges_table_bmi(5)"
   ]
  }
 ],
 "metadata": {
  "kernelspec": {
   "display_name": "Python 3 (ipykernel)",
   "language": "python",
   "name": "python3"
  },
  "language_info": {
   "codemirror_mode": {
    "name": "ipython",
    "version": 3
   },
   "file_extension": ".py",
   "mimetype": "text/x-python",
   "name": "python",
   "nbconvert_exporter": "python",
   "pygments_lexer": "ipython3",
   "version": "3.9.7"
  }
 },
 "nbformat": 4,
 "nbformat_minor": 4
}
